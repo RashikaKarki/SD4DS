{
 "cells": [
  {
   "attachments": {},
   "cell_type": "markdown",
   "metadata": {},
   "source": [
    "# Errors, logging and debugging"
   ]
  },
  {
   "cell_type": "code",
   "execution_count": 32,
   "metadata": {},
   "outputs": [],
   "source": [
    "import pandas as pd\n",
    "import numpy as np\n",
    "from scipy.stats import linregress"
   ]
  },
  {
   "cell_type": "code",
   "execution_count": 33,
   "metadata": {},
   "outputs": [],
   "source": [
    "df = pd.read_csv(\"../data/women_in_parliament_processed.csv\")"
   ]
  },
  {
   "cell_type": "code",
   "execution_count": 34,
   "metadata": {},
   "outputs": [
    {
     "data": {
      "text/html": [
       "<div>\n",
       "<style scoped>\n",
       "    .dataframe tbody tr th:only-of-type {\n",
       "        vertical-align: middle;\n",
       "    }\n",
       "\n",
       "    .dataframe tbody tr th {\n",
       "        vertical-align: top;\n",
       "    }\n",
       "\n",
       "    .dataframe thead th {\n",
       "        text-align: right;\n",
       "    }\n",
       "</style>\n",
       "<table border=\"1\" class=\"dataframe\">\n",
       "  <thead>\n",
       "    <tr style=\"text-align: right;\">\n",
       "      <th></th>\n",
       "      <th>Unnamed: 0</th>\n",
       "      <th>Afghanistan</th>\n",
       "      <th>Albania</th>\n",
       "      <th>Algeria</th>\n",
       "      <th>Andorra</th>\n",
       "      <th>Angola</th>\n",
       "      <th>Antigua and Barbuda</th>\n",
       "      <th>Argentina</th>\n",
       "      <th>Armenia</th>\n",
       "      <th>Australia</th>\n",
       "      <th>...</th>\n",
       "      <th>United Republic of Tanzania</th>\n",
       "      <th>United States of America</th>\n",
       "      <th>Uruguay</th>\n",
       "      <th>Uzbekistan</th>\n",
       "      <th>Vanuatu</th>\n",
       "      <th>Venezuela (Bolivarian Republic of)</th>\n",
       "      <th>Viet Nam</th>\n",
       "      <th>Yemen</th>\n",
       "      <th>Zambia</th>\n",
       "      <th>Zimbabwe</th>\n",
       "    </tr>\n",
       "  </thead>\n",
       "  <tbody>\n",
       "    <tr>\n",
       "      <th>0</th>\n",
       "      <td>2000</td>\n",
       "      <td>NaN</td>\n",
       "      <td>5.16</td>\n",
       "      <td>3.16</td>\n",
       "      <td>7.14</td>\n",
       "      <td>15.45</td>\n",
       "      <td>5.26</td>\n",
       "      <td>28.02</td>\n",
       "      <td>3.05</td>\n",
       "      <td>22.45</td>\n",
       "      <td>...</td>\n",
       "      <td>22.18</td>\n",
       "      <td>13.33</td>\n",
       "      <td>12.12</td>\n",
       "      <td>6.8</td>\n",
       "      <td>0.00</td>\n",
       "      <td>12.14</td>\n",
       "      <td>26.00</td>\n",
       "      <td>0.66</td>\n",
       "      <td>10.13</td>\n",
       "      <td>14.00</td>\n",
       "    </tr>\n",
       "    <tr>\n",
       "      <th>1</th>\n",
       "      <td>2001</td>\n",
       "      <td>NaN</td>\n",
       "      <td>5.16</td>\n",
       "      <td>3.42</td>\n",
       "      <td>7.14</td>\n",
       "      <td>15.45</td>\n",
       "      <td>5.26</td>\n",
       "      <td>26.46</td>\n",
       "      <td>3.05</td>\n",
       "      <td>22.97</td>\n",
       "      <td>...</td>\n",
       "      <td>22.18</td>\n",
       "      <td>14.02</td>\n",
       "      <td>12.12</td>\n",
       "      <td>7.2</td>\n",
       "      <td>0.00</td>\n",
       "      <td>9.70</td>\n",
       "      <td>26.00</td>\n",
       "      <td>0.66</td>\n",
       "      <td>10.13</td>\n",
       "      <td>9.33</td>\n",
       "    </tr>\n",
       "    <tr>\n",
       "      <th>2</th>\n",
       "      <td>2002</td>\n",
       "      <td>NaN</td>\n",
       "      <td>5.71</td>\n",
       "      <td>3.42</td>\n",
       "      <td>14.29</td>\n",
       "      <td>15.45</td>\n",
       "      <td>5.26</td>\n",
       "      <td>30.74</td>\n",
       "      <td>3.05</td>\n",
       "      <td>25.33</td>\n",
       "      <td>...</td>\n",
       "      <td>22.26</td>\n",
       "      <td>14.02</td>\n",
       "      <td>12.12</td>\n",
       "      <td>7.2</td>\n",
       "      <td>0.00</td>\n",
       "      <td>9.70</td>\n",
       "      <td>26.00</td>\n",
       "      <td>0.67</td>\n",
       "      <td>12.03</td>\n",
       "      <td>10.00</td>\n",
       "    </tr>\n",
       "    <tr>\n",
       "      <th>3</th>\n",
       "      <td>2003</td>\n",
       "      <td>NaN</td>\n",
       "      <td>5.71</td>\n",
       "      <td>6.17</td>\n",
       "      <td>14.29</td>\n",
       "      <td>15.45</td>\n",
       "      <td>5.26</td>\n",
       "      <td>30.74</td>\n",
       "      <td>3.05</td>\n",
       "      <td>25.33</td>\n",
       "      <td>...</td>\n",
       "      <td>22.26</td>\n",
       "      <td>14.25</td>\n",
       "      <td>12.12</td>\n",
       "      <td>7.2</td>\n",
       "      <td>1.92</td>\n",
       "      <td>9.70</td>\n",
       "      <td>27.31</td>\n",
       "      <td>0.67</td>\n",
       "      <td>12.03</td>\n",
       "      <td>10.00</td>\n",
       "    </tr>\n",
       "    <tr>\n",
       "      <th>4</th>\n",
       "      <td>2004</td>\n",
       "      <td>NaN</td>\n",
       "      <td>5.71</td>\n",
       "      <td>6.17</td>\n",
       "      <td>14.29</td>\n",
       "      <td>15.45</td>\n",
       "      <td>5.26</td>\n",
       "      <td>30.74</td>\n",
       "      <td>4.58</td>\n",
       "      <td>25.33</td>\n",
       "      <td>...</td>\n",
       "      <td>21.36</td>\n",
       "      <td>14.25</td>\n",
       "      <td>12.12</td>\n",
       "      <td>7.2</td>\n",
       "      <td>1.92</td>\n",
       "      <td>9.70</td>\n",
       "      <td>27.31</td>\n",
       "      <td>0.33</td>\n",
       "      <td>12.03</td>\n",
       "      <td>10.00</td>\n",
       "    </tr>\n",
       "  </tbody>\n",
       "</table>\n",
       "<p>5 rows × 196 columns</p>\n",
       "</div>"
      ],
      "text/plain": [
       "   Unnamed: 0  Afghanistan  Albania  Algeria  Andorra  Angola  \\\n",
       "0        2000          NaN     5.16     3.16     7.14   15.45   \n",
       "1        2001          NaN     5.16     3.42     7.14   15.45   \n",
       "2        2002          NaN     5.71     3.42    14.29   15.45   \n",
       "3        2003          NaN     5.71     6.17    14.29   15.45   \n",
       "4        2004          NaN     5.71     6.17    14.29   15.45   \n",
       "\n",
       "   Antigua and Barbuda  Argentina  Armenia  Australia  ...  \\\n",
       "0                 5.26      28.02     3.05      22.45  ...   \n",
       "1                 5.26      26.46     3.05      22.97  ...   \n",
       "2                 5.26      30.74     3.05      25.33  ...   \n",
       "3                 5.26      30.74     3.05      25.33  ...   \n",
       "4                 5.26      30.74     4.58      25.33  ...   \n",
       "\n",
       "   United Republic of Tanzania  United States of America  Uruguay  Uzbekistan  \\\n",
       "0                        22.18                     13.33    12.12         6.8   \n",
       "1                        22.18                     14.02    12.12         7.2   \n",
       "2                        22.26                     14.02    12.12         7.2   \n",
       "3                        22.26                     14.25    12.12         7.2   \n",
       "4                        21.36                     14.25    12.12         7.2   \n",
       "\n",
       "   Vanuatu  Venezuela (Bolivarian Republic of)  Viet Nam  Yemen  Zambia  \\\n",
       "0     0.00                               12.14     26.00   0.66   10.13   \n",
       "1     0.00                                9.70     26.00   0.66   10.13   \n",
       "2     0.00                                9.70     26.00   0.67   12.03   \n",
       "3     1.92                                9.70     27.31   0.67   12.03   \n",
       "4     1.92                                9.70     27.31   0.33   12.03   \n",
       "\n",
       "   Zimbabwe  \n",
       "0     14.00  \n",
       "1      9.33  \n",
       "2     10.00  \n",
       "3     10.00  \n",
       "4     10.00  \n",
       "\n",
       "[5 rows x 196 columns]"
      ]
     },
     "execution_count": 34,
     "metadata": {},
     "output_type": "execute_result"
    }
   ],
   "source": [
    "df.head()"
   ]
  },
  {
   "cell_type": "code",
   "execution_count": 35,
   "metadata": {},
   "outputs": [],
   "source": [
    "timestamps = [int(i) for i in df.index.tolist()]"
   ]
  },
  {
   "cell_type": "code",
   "execution_count": 36,
   "metadata": {},
   "outputs": [],
   "source": [
    "uk_parl = df[\"United Kingdom of Great Britain and Northern Ireland\"].tolist()"
   ]
  },
  {
   "cell_type": "code",
   "execution_count": 39,
   "metadata": {},
   "outputs": [],
   "source": [
    "def fit_trendline(year_timestamps):\n",
    "    result = linregress(year_timestamps, data)\n",
    "    slope = round(result.slope, 3)\n",
    "    r_squared = round(result.rvalue**2, 3)\n",
    "    return slope, r_squared"
   ]
  },
  {
   "cell_type": "code",
   "execution_count": 40,
   "metadata": {},
   "outputs": [
    {
     "ename": "ValueError",
     "evalue": "all the input array dimensions except for the concatenation axis must match exactly, but along dimension 1, the array at index 0 has size 24 and the array at index 1 has size 3",
     "output_type": "error",
     "traceback": [
      "\u001b[1;31m---------------------------------------------------------------------------\u001b[0m",
      "\u001b[1;31mValueError\u001b[0m                                Traceback (most recent call last)",
      "Cell \u001b[1;32mIn[40], line 1\u001b[0m\n\u001b[1;32m----> 1\u001b[0m \u001b[43mfit_trendline\u001b[49m\u001b[43m(\u001b[49m\u001b[43mtimestamps\u001b[49m\u001b[43m)\u001b[49m\n",
      "Cell \u001b[1;32mIn[39], line 2\u001b[0m, in \u001b[0;36mfit_trendline\u001b[1;34m(year_timestamps)\u001b[0m\n\u001b[0;32m      1\u001b[0m \u001b[38;5;28;01mdef\u001b[39;00m \u001b[38;5;21mfit_trendline\u001b[39m(year_timestamps):\n\u001b[1;32m----> 2\u001b[0m     result \u001b[38;5;241m=\u001b[39m \u001b[43mlinregress\u001b[49m\u001b[43m(\u001b[49m\u001b[43myear_timestamps\u001b[49m\u001b[43m,\u001b[49m\u001b[43m \u001b[49m\u001b[43mdata\u001b[49m\u001b[43m)\u001b[49m\n\u001b[0;32m      3\u001b[0m     slope \u001b[38;5;241m=\u001b[39m \u001b[38;5;28mround\u001b[39m(result\u001b[38;5;241m.\u001b[39mslope, \u001b[38;5;241m3\u001b[39m)\n\u001b[0;32m      4\u001b[0m     r_squared \u001b[38;5;241m=\u001b[39m \u001b[38;5;28mround\u001b[39m(result\u001b[38;5;241m.\u001b[39mrvalue\u001b[38;5;241m*\u001b[39m\u001b[38;5;241m*\u001b[39m\u001b[38;5;241m2\u001b[39m, \u001b[38;5;241m3\u001b[39m)\n",
      "File \u001b[1;32mc:\\Users\\anpande\\Documents\\Git\\SD4DS\\SD4DS\\lib\\site-packages\\scipy\\stats\\_stats_mstats_common.py:167\u001b[0m, in \u001b[0;36mlinregress\u001b[1;34m(x, y, alternative)\u001b[0m\n\u001b[0;32m    162\u001b[0m ymean \u001b[38;5;241m=\u001b[39m np\u001b[38;5;241m.\u001b[39mmean(y, \u001b[38;5;28;01mNone\u001b[39;00m)\n\u001b[0;32m    164\u001b[0m \u001b[38;5;66;03m# Average sums of square differences from the mean\u001b[39;00m\n\u001b[0;32m    165\u001b[0m \u001b[38;5;66;03m#   ssxm = mean( (x-mean(x))^2 )\u001b[39;00m\n\u001b[0;32m    166\u001b[0m \u001b[38;5;66;03m#   ssxym = mean( (x-mean(x)) * (y-mean(y)) )\u001b[39;00m\n\u001b[1;32m--> 167\u001b[0m ssxm, ssxym, _, ssym \u001b[38;5;241m=\u001b[39m \u001b[43mnp\u001b[49m\u001b[38;5;241;43m.\u001b[39;49m\u001b[43mcov\u001b[49m\u001b[43m(\u001b[49m\u001b[43mx\u001b[49m\u001b[43m,\u001b[49m\u001b[43m \u001b[49m\u001b[43my\u001b[49m\u001b[43m,\u001b[49m\u001b[43m \u001b[49m\u001b[43mbias\u001b[49m\u001b[38;5;241;43m=\u001b[39;49m\u001b[38;5;241;43m1\u001b[39;49m\u001b[43m)\u001b[49m\u001b[38;5;241m.\u001b[39mflat\n\u001b[0;32m    169\u001b[0m \u001b[38;5;66;03m# R-value\u001b[39;00m\n\u001b[0;32m    170\u001b[0m \u001b[38;5;66;03m#   r = ssxym / sqrt( ssxm * ssym )\u001b[39;00m\n\u001b[0;32m    171\u001b[0m \u001b[38;5;28;01mif\u001b[39;00m ssxm \u001b[38;5;241m==\u001b[39m \u001b[38;5;241m0.0\u001b[39m \u001b[38;5;129;01mor\u001b[39;00m ssym \u001b[38;5;241m==\u001b[39m \u001b[38;5;241m0.0\u001b[39m:\n\u001b[0;32m    172\u001b[0m     \u001b[38;5;66;03m# If the denominator was going to be 0\u001b[39;00m\n",
      "File \u001b[1;32mc:\\Users\\anpande\\Documents\\Git\\SD4DS\\SD4DS\\lib\\site-packages\\numpy\\lib\\function_base.py:2683\u001b[0m, in \u001b[0;36mcov\u001b[1;34m(m, y, rowvar, bias, ddof, fweights, aweights, dtype)\u001b[0m\n\u001b[0;32m   2681\u001b[0m     \u001b[38;5;28;01mif\u001b[39;00m \u001b[38;5;129;01mnot\u001b[39;00m rowvar \u001b[38;5;129;01mand\u001b[39;00m y\u001b[38;5;241m.\u001b[39mshape[\u001b[38;5;241m0\u001b[39m] \u001b[38;5;241m!=\u001b[39m \u001b[38;5;241m1\u001b[39m:\n\u001b[0;32m   2682\u001b[0m         y \u001b[38;5;241m=\u001b[39m y\u001b[38;5;241m.\u001b[39mT\n\u001b[1;32m-> 2683\u001b[0m     X \u001b[38;5;241m=\u001b[39m \u001b[43mnp\u001b[49m\u001b[38;5;241;43m.\u001b[39;49m\u001b[43mconcatenate\u001b[49m\u001b[43m(\u001b[49m\u001b[43m(\u001b[49m\u001b[43mX\u001b[49m\u001b[43m,\u001b[49m\u001b[43m \u001b[49m\u001b[43my\u001b[49m\u001b[43m)\u001b[49m\u001b[43m,\u001b[49m\u001b[43m \u001b[49m\u001b[43maxis\u001b[49m\u001b[38;5;241;43m=\u001b[39;49m\u001b[38;5;241;43m0\u001b[39;49m\u001b[43m)\u001b[49m\n\u001b[0;32m   2685\u001b[0m \u001b[38;5;28;01mif\u001b[39;00m ddof \u001b[38;5;129;01mis\u001b[39;00m \u001b[38;5;28;01mNone\u001b[39;00m:\n\u001b[0;32m   2686\u001b[0m     \u001b[38;5;28;01mif\u001b[39;00m bias \u001b[38;5;241m==\u001b[39m \u001b[38;5;241m0\u001b[39m:\n",
      "\u001b[1;31mValueError\u001b[0m: all the input array dimensions except for the concatenation axis must match exactly, but along dimension 1, the array at index 0 has size 24 and the array at index 1 has size 3"
     ]
    }
   ],
   "source": [
    "fit_trendline(timestamps)"
   ]
  },
  {
   "cell_type": "code",
   "execution_count": 41,
   "metadata": {},
   "outputs": [],
   "source": [
    "def fit_trendline(year_timestamps, data):\n",
    "    try:\n",
    "        result = linregress(year_timestamps, data)\n",
    "    except TypeError:\n",
    "        print(\"Both lists must contain floats or integers.\")\n",
    "    else:\n",
    "        slope = round(result.slope, 3)\n",
    "        r_squared = round(result.rvalue**2, 3)\n",
    "        return slope, r_squared"
   ]
  },
  {
   "cell_type": "code",
   "execution_count": 42,
   "metadata": {},
   "outputs": [],
   "source": [
    "timestamps = [\"2000\", \"2001\", \"2002\"]"
   ]
  },
  {
   "cell_type": "code",
   "execution_count": 43,
   "metadata": {},
   "outputs": [],
   "source": [
    "data = uk_parl[:3]"
   ]
  },
  {
   "cell_type": "code",
   "execution_count": 44,
   "metadata": {},
   "outputs": [
    {
     "data": {
      "text/plain": [
       "[18.36, 18.36, 17.91]"
      ]
     },
     "execution_count": 44,
     "metadata": {},
     "output_type": "execute_result"
    }
   ],
   "source": [
    "data"
   ]
  },
  {
   "cell_type": "code",
   "execution_count": 45,
   "metadata": {},
   "outputs": [
    {
     "name": "stdout",
     "output_type": "stream",
     "text": [
      "Both lists must contain floats or integers.\n"
     ]
    }
   ],
   "source": [
    "fit_trendline(timestamps, data)"
   ]
  },
  {
   "attachments": {},
   "cell_type": "markdown",
   "metadata": {},
   "source": [
    "### Raising your own errors"
   ]
  },
  {
   "cell_type": "code",
   "execution_count": 13,
   "metadata": {},
   "outputs": [],
   "source": [
    "def fit_trendline(year_timestamps, data):\n",
    "    if not year_timestamps or data:\n",
    "        raise ValueError(\"Timestamps and data cannot be empty lists\")\n",
    "    result = linregress(year_timestamps, data)\n",
    "    slope = round(result.slope, 3)\n",
    "    r_squared = round(result.rvalue**2, 3)\n",
    "    return slope, r_squared"
   ]
  },
  {
   "cell_type": "code",
   "execution_count": 14,
   "metadata": {},
   "outputs": [
    {
     "ename": "ValueError",
     "evalue": "Timestamps and data cannot be empty lists",
     "output_type": "error",
     "traceback": [
      "\u001b[1;31m---------------------------------------------------------------------------\u001b[0m",
      "\u001b[1;31mValueError\u001b[0m                                Traceback (most recent call last)",
      "Cell \u001b[1;32mIn[14], line 1\u001b[0m\n\u001b[1;32m----> 1\u001b[0m \u001b[43mfit_trendline\u001b[49m\u001b[43m(\u001b[49m\u001b[43m[\u001b[49m\u001b[43m]\u001b[49m\u001b[43m,\u001b[49m\u001b[43m \u001b[49m\u001b[43m[\u001b[49m\u001b[38;5;241;43m18.36\u001b[39;49m\u001b[43m,\u001b[49m\u001b[43m \u001b[49m\u001b[38;5;241;43m18.36\u001b[39;49m\u001b[43m,\u001b[49m\u001b[43m \u001b[49m\u001b[38;5;241;43m17.91\u001b[39;49m\u001b[43m]\u001b[49m\u001b[43m)\u001b[49m\n",
      "Cell \u001b[1;32mIn[13], line 3\u001b[0m, in \u001b[0;36mfit_trendline\u001b[1;34m(year_timestamps, data)\u001b[0m\n\u001b[0;32m      1\u001b[0m \u001b[38;5;28;01mdef\u001b[39;00m \u001b[38;5;21mfit_trendline\u001b[39m(year_timestamps, data):\n\u001b[0;32m      2\u001b[0m     \u001b[38;5;28;01mif\u001b[39;00m \u001b[38;5;129;01mnot\u001b[39;00m year_timestamps \u001b[38;5;129;01mor\u001b[39;00m data:\n\u001b[1;32m----> 3\u001b[0m         \u001b[38;5;28;01mraise\u001b[39;00m \u001b[38;5;167;01mValueError\u001b[39;00m(\u001b[38;5;124m\"\u001b[39m\u001b[38;5;124mTimestamps and data cannot be empty lists\u001b[39m\u001b[38;5;124m\"\u001b[39m)\n\u001b[0;32m      4\u001b[0m     result \u001b[38;5;241m=\u001b[39m linregress(year_timestamps, data)\n\u001b[0;32m      5\u001b[0m     slope \u001b[38;5;241m=\u001b[39m \u001b[38;5;28mround\u001b[39m(result\u001b[38;5;241m.\u001b[39mslope, \u001b[38;5;241m3\u001b[39m)\n",
      "\u001b[1;31mValueError\u001b[0m: Timestamps and data cannot be empty lists"
     ]
    }
   ],
   "source": [
    "fit_trendline([], [18.36, 18.36, 17.91])"
   ]
  },
  {
   "attachments": {},
   "cell_type": "markdown",
   "metadata": {},
   "source": [
    "## Logging"
   ]
  },
  {
   "attachments": {},
   "cell_type": "markdown",
   "metadata": {},
   "source": [
    "### Logging in Python"
   ]
  },
  {
   "cell_type": "code",
   "execution_count": 15,
   "metadata": {},
   "outputs": [],
   "source": [
    "import logging"
   ]
  },
  {
   "cell_type": "code",
   "execution_count": 16,
   "metadata": {},
   "outputs": [],
   "source": [
    "logging.basicConfig(level=logging.DEBUG)"
   ]
  },
  {
   "cell_type": "code",
   "execution_count": 17,
   "metadata": {},
   "outputs": [],
   "source": [
    "logging.basicConfig(filename=\"chapter_05_logs.log\", level=logging.DEBUG)"
   ]
  },
  {
   "cell_type": "code",
   "execution_count": 18,
   "metadata": {},
   "outputs": [],
   "source": [
    "logging.basicConfig(\n",
    "    filename=\"chapter_05_logs.log\",\n",
    "    level=logging.DEBUG,\n",
    "    format=\"%(asctime)s %(message)s\",\n",
    ")"
   ]
  },
  {
   "cell_type": "code",
   "execution_count": 19,
   "metadata": {},
   "outputs": [],
   "source": [
    "def fit_trendline(year_timestamps, data):\n",
    "    logging.info(\"Running fit_trendline function\")\n",
    "    result = linregress(year_timestamps, data)\n",
    "    slope = round(result.slope, 3)\n",
    "    r_squared = round(result.rvalue**2, 3)\n",
    "    logging.info(f\"Completed analysis. Slope of the trendline is {slope}.\")\n",
    "    return slope, r_squared"
   ]
  },
  {
   "cell_type": "code",
   "execution_count": 29,
   "metadata": {},
   "outputs": [
    {
     "data": {
      "text/plain": [
       "[18.36, 18.36, 17.91]"
      ]
     },
     "execution_count": 29,
     "metadata": {},
     "output_type": "execute_result"
    }
   ],
   "source": [
    "data = df[\"United Kingdom of Great Britain and Northern Ireland\"].tolist()[:3]\n",
    "data\n"
   ]
  },
  {
   "cell_type": "code",
   "execution_count": 31,
   "metadata": {},
   "outputs": [
    {
     "name": "stderr",
     "output_type": "stream",
     "text": [
      "INFO:root:Running fit_trendline function\n"
     ]
    },
    {
     "ename": "UFuncTypeError",
     "evalue": "ufunc 'maximum' did not contain a loop with signature matching types (dtype('<U4'), dtype('<U4')) -> None",
     "output_type": "error",
     "traceback": [
      "\u001b[1;31m---------------------------------------------------------------------------\u001b[0m",
      "\u001b[1;31mUFuncTypeError\u001b[0m                            Traceback (most recent call last)",
      "Cell \u001b[1;32mIn[31], line 1\u001b[0m\n\u001b[1;32m----> 1\u001b[0m \u001b[43mfit_trendline\u001b[49m\u001b[43m(\u001b[49m\u001b[43mtimestamps\u001b[49m\u001b[43m,\u001b[49m\u001b[43m \u001b[49m\u001b[43mdata\u001b[49m\u001b[43m)\u001b[49m\n",
      "Cell \u001b[1;32mIn[19], line 3\u001b[0m, in \u001b[0;36mfit_trendline\u001b[1;34m(year_timestamps, data)\u001b[0m\n\u001b[0;32m      1\u001b[0m \u001b[38;5;28;01mdef\u001b[39;00m \u001b[38;5;21mfit_trendline\u001b[39m(year_timestamps, data):\n\u001b[0;32m      2\u001b[0m     logging\u001b[38;5;241m.\u001b[39minfo(\u001b[38;5;124m\"\u001b[39m\u001b[38;5;124mRunning fit_trendline function\u001b[39m\u001b[38;5;124m\"\u001b[39m)\n\u001b[1;32m----> 3\u001b[0m     result \u001b[38;5;241m=\u001b[39m \u001b[43mlinregress\u001b[49m\u001b[43m(\u001b[49m\u001b[43myear_timestamps\u001b[49m\u001b[43m,\u001b[49m\u001b[43m \u001b[49m\u001b[43mdata\u001b[49m\u001b[43m)\u001b[49m\n\u001b[0;32m      4\u001b[0m     slope \u001b[38;5;241m=\u001b[39m \u001b[38;5;28mround\u001b[39m(result\u001b[38;5;241m.\u001b[39mslope, \u001b[38;5;241m3\u001b[39m)\n\u001b[0;32m      5\u001b[0m     r_squared \u001b[38;5;241m=\u001b[39m \u001b[38;5;28mround\u001b[39m(result\u001b[38;5;241m.\u001b[39mrvalue\u001b[38;5;241m*\u001b[39m\u001b[38;5;241m*\u001b[39m\u001b[38;5;241m2\u001b[39m, \u001b[38;5;241m3\u001b[39m)\n",
      "File \u001b[1;32mc:\\Users\\anpande\\Documents\\Git\\SD4DS\\SD4DS\\lib\\site-packages\\scipy\\stats\\_stats_mstats_common.py:156\u001b[0m, in \u001b[0;36mlinregress\u001b[1;34m(x, y, alternative)\u001b[0m\n\u001b[0;32m    153\u001b[0m \u001b[38;5;28;01mif\u001b[39;00m x\u001b[38;5;241m.\u001b[39msize \u001b[38;5;241m==\u001b[39m \u001b[38;5;241m0\u001b[39m \u001b[38;5;129;01mor\u001b[39;00m y\u001b[38;5;241m.\u001b[39msize \u001b[38;5;241m==\u001b[39m \u001b[38;5;241m0\u001b[39m:\n\u001b[0;32m    154\u001b[0m     \u001b[38;5;28;01mraise\u001b[39;00m \u001b[38;5;167;01mValueError\u001b[39;00m(\u001b[38;5;124m\"\u001b[39m\u001b[38;5;124mInputs must not be empty.\u001b[39m\u001b[38;5;124m\"\u001b[39m)\n\u001b[1;32m--> 156\u001b[0m \u001b[38;5;28;01mif\u001b[39;00m \u001b[43mnp\u001b[49m\u001b[38;5;241;43m.\u001b[39;49m\u001b[43mamax\u001b[49m\u001b[43m(\u001b[49m\u001b[43mx\u001b[49m\u001b[43m)\u001b[49m \u001b[38;5;241m==\u001b[39m np\u001b[38;5;241m.\u001b[39mamin(x) \u001b[38;5;129;01mand\u001b[39;00m \u001b[38;5;28mlen\u001b[39m(x) \u001b[38;5;241m>\u001b[39m \u001b[38;5;241m1\u001b[39m:\n\u001b[0;32m    157\u001b[0m     \u001b[38;5;28;01mraise\u001b[39;00m \u001b[38;5;167;01mValueError\u001b[39;00m(\u001b[38;5;124m\"\u001b[39m\u001b[38;5;124mCannot calculate a linear regression \u001b[39m\u001b[38;5;124m\"\u001b[39m\n\u001b[0;32m    158\u001b[0m                      \u001b[38;5;124m\"\u001b[39m\u001b[38;5;124mif all x values are identical\u001b[39m\u001b[38;5;124m\"\u001b[39m)\n\u001b[0;32m    160\u001b[0m n \u001b[38;5;241m=\u001b[39m \u001b[38;5;28mlen\u001b[39m(x)\n",
      "File \u001b[1;32mc:\\Users\\anpande\\Documents\\Git\\SD4DS\\SD4DS\\lib\\site-packages\\numpy\\core\\fromnumeric.py:2827\u001b[0m, in \u001b[0;36mamax\u001b[1;34m(a, axis, out, keepdims, initial, where)\u001b[0m\n\u001b[0;32m   2814\u001b[0m \u001b[38;5;129m@array_function_dispatch\u001b[39m(_max_dispatcher)\n\u001b[0;32m   2815\u001b[0m \u001b[38;5;28;01mdef\u001b[39;00m \u001b[38;5;21mamax\u001b[39m(a, axis\u001b[38;5;241m=\u001b[39m\u001b[38;5;28;01mNone\u001b[39;00m, out\u001b[38;5;241m=\u001b[39m\u001b[38;5;28;01mNone\u001b[39;00m, keepdims\u001b[38;5;241m=\u001b[39mnp\u001b[38;5;241m.\u001b[39m_NoValue, initial\u001b[38;5;241m=\u001b[39mnp\u001b[38;5;241m.\u001b[39m_NoValue,\n\u001b[0;32m   2816\u001b[0m          where\u001b[38;5;241m=\u001b[39mnp\u001b[38;5;241m.\u001b[39m_NoValue):\n\u001b[0;32m   2817\u001b[0m \u001b[38;5;250m    \u001b[39m\u001b[38;5;124;03m\"\"\"\u001b[39;00m\n\u001b[0;32m   2818\u001b[0m \u001b[38;5;124;03m    Return the maximum of an array or maximum along an axis.\u001b[39;00m\n\u001b[0;32m   2819\u001b[0m \n\u001b[1;32m   (...)\u001b[0m\n\u001b[0;32m   2825\u001b[0m \u001b[38;5;124;03m    ndarray.max : equivalent method\u001b[39;00m\n\u001b[0;32m   2826\u001b[0m \u001b[38;5;124;03m    \"\"\"\u001b[39;00m\n\u001b[1;32m-> 2827\u001b[0m     \u001b[38;5;28;01mreturn\u001b[39;00m \u001b[43m_wrapreduction\u001b[49m\u001b[43m(\u001b[49m\u001b[43ma\u001b[49m\u001b[43m,\u001b[49m\u001b[43m \u001b[49m\u001b[43mnp\u001b[49m\u001b[38;5;241;43m.\u001b[39;49m\u001b[43mmaximum\u001b[49m\u001b[43m,\u001b[49m\u001b[43m \u001b[49m\u001b[38;5;124;43m'\u001b[39;49m\u001b[38;5;124;43mmax\u001b[39;49m\u001b[38;5;124;43m'\u001b[39;49m\u001b[43m,\u001b[49m\u001b[43m \u001b[49m\u001b[43maxis\u001b[49m\u001b[43m,\u001b[49m\u001b[43m \u001b[49m\u001b[38;5;28;43;01mNone\u001b[39;49;00m\u001b[43m,\u001b[49m\u001b[43m \u001b[49m\u001b[43mout\u001b[49m\u001b[43m,\u001b[49m\n\u001b[0;32m   2828\u001b[0m \u001b[43m                          \u001b[49m\u001b[43mkeepdims\u001b[49m\u001b[38;5;241;43m=\u001b[39;49m\u001b[43mkeepdims\u001b[49m\u001b[43m,\u001b[49m\u001b[43m \u001b[49m\u001b[43minitial\u001b[49m\u001b[38;5;241;43m=\u001b[39;49m\u001b[43minitial\u001b[49m\u001b[43m,\u001b[49m\u001b[43m \u001b[49m\u001b[43mwhere\u001b[49m\u001b[38;5;241;43m=\u001b[39;49m\u001b[43mwhere\u001b[49m\u001b[43m)\u001b[49m\n",
      "File \u001b[1;32mc:\\Users\\anpande\\Documents\\Git\\SD4DS\\SD4DS\\lib\\site-packages\\numpy\\core\\fromnumeric.py:88\u001b[0m, in \u001b[0;36m_wrapreduction\u001b[1;34m(obj, ufunc, method, axis, dtype, out, **kwargs)\u001b[0m\n\u001b[0;32m     85\u001b[0m         \u001b[38;5;28;01melse\u001b[39;00m:\n\u001b[0;32m     86\u001b[0m             \u001b[38;5;28;01mreturn\u001b[39;00m reduction(axis\u001b[38;5;241m=\u001b[39maxis, out\u001b[38;5;241m=\u001b[39mout, \u001b[38;5;241m*\u001b[39m\u001b[38;5;241m*\u001b[39mpasskwargs)\n\u001b[1;32m---> 88\u001b[0m \u001b[38;5;28;01mreturn\u001b[39;00m ufunc\u001b[38;5;241m.\u001b[39mreduce(obj, axis, dtype, out, \u001b[38;5;241m*\u001b[39m\u001b[38;5;241m*\u001b[39mpasskwargs)\n",
      "\u001b[1;31mUFuncTypeError\u001b[0m: ufunc 'maximum' did not contain a loop with signature matching types (dtype('<U4'), dtype('<U4')) -> None"
     ]
    }
   ],
   "source": [
    "fit_trendline(timestamps, data)"
   ]
  },
  {
   "cell_type": "code",
   "execution_count": 26,
   "metadata": {},
   "outputs": [],
   "source": [
    "def fit_trendline(year_timestamps, data):\n",
    "    logging.info(\"Running fit_trendline function\")\n",
    "    try:\n",
    "        result = linregress(year_timestamps, data)\n",
    "    except TypeError as e:\n",
    "        logging.error(\"Both lists must contain floats or integers.\")\n",
    "        logging.exception(e)\n",
    "    else:\n",
    "        slope = round(result.slope, 3)\n",
    "        r_squared = round(result.rvalue**2, 3)\n",
    "        logging.info(f\"Completed analysis. Slope of the trendline is {slope}.\")\n",
    "        return slope, r_squared"
   ]
  },
  {
   "cell_type": "code",
   "execution_count": 27,
   "metadata": {},
   "outputs": [
    {
     "name": "stderr",
     "output_type": "stream",
     "text": [
      "INFO:root:Running fit_trendline function\n",
      "ERROR:root:Both lists must contain floats or integers.\n",
      "ERROR:root:ufunc 'maximum' did not contain a loop with signature matching types (dtype('<U4'), dtype('<U4')) -> None\n",
      "Traceback (most recent call last):\n",
      "  File \"C:\\Users\\anpande\\AppData\\Local\\Temp\\ipykernel_17780\\1963620590.py\", line 4, in fit_trendline\n",
      "    result = linregress(year_timestamps, data)\n",
      "  File \"c:\\Users\\anpande\\Documents\\Git\\SD4DS\\SD4DS\\lib\\site-packages\\scipy\\stats\\_stats_mstats_common.py\", line 156, in linregress\n",
      "    if np.amax(x) == np.amin(x) and len(x) > 1:\n",
      "  File \"c:\\Users\\anpande\\Documents\\Git\\SD4DS\\SD4DS\\lib\\site-packages\\numpy\\core\\fromnumeric.py\", line 2827, in amax\n",
      "    return _wrapreduction(a, np.maximum, 'max', axis, None, out,\n",
      "  File \"c:\\Users\\anpande\\Documents\\Git\\SD4DS\\SD4DS\\lib\\site-packages\\numpy\\core\\fromnumeric.py\", line 88, in _wrapreduction\n",
      "    return ufunc.reduce(obj, axis, dtype, out, **passkwargs)\n",
      "numpy.core._exceptions._UFuncNoLoopError: ufunc 'maximum' did not contain a loop with signature matching types (dtype('<U4'), dtype('<U4')) -> None\n"
     ]
    }
   ],
   "source": [
    "timestamps = [\"2000\", \"2001\", \"2002\"]\n",
    "data = [18.36, 18.36, 17.91]\n",
    "\n",
    "fit_trendline(timestamps, data)"
   ]
  },
  {
   "cell_type": "code",
   "execution_count": null,
   "metadata": {},
   "outputs": [],
   "source": [
    "logging.basicConfig(filename=\"chapter_5_logs.log\", filemode=\"w\", level=logging.DEBUG)"
   ]
  },
  {
   "attachments": {},
   "cell_type": "markdown",
   "metadata": {},
   "source": [
    "## Debugging"
   ]
  },
  {
   "cell_type": "code",
   "execution_count": 28,
   "metadata": {},
   "outputs": [],
   "source": [
    "def weighted_mean(num_list, weights):\n",
    "    running_total = 0\n",
    "    for i in range(len(num_list)):\n",
    "        running_total += num_list[i] * weights[0]\n",
    "    return running_total / len(num_list)"
   ]
  },
  {
   "cell_type": "code",
   "execution_count": 37,
   "metadata": {},
   "outputs": [
    {
     "name": "stderr",
     "output_type": "stream",
     "text": [
      "DEBUG:root:The running total at step 0 is 1\n",
      "DEBUG:root:The running total at step 1 is 7\n",
      "DEBUG:root:The running total at step 2 is 15\n"
     ]
    },
    {
     "data": {
      "text/plain": [
       "5.0"
      ]
     },
     "execution_count": 37,
     "metadata": {},
     "output_type": "execute_result"
    }
   ],
   "source": [
    "weighted_mean([1, 6, 8], [1, 3, 2])"
   ]
  },
  {
   "cell_type": "code",
   "execution_count": 30,
   "metadata": {},
   "outputs": [],
   "source": [
    "def weighted_mean(num_list, weights):\n",
    "    running_total = 0\n",
    "    for i in range(len(num_list)):\n",
    "        running_total += num_list[i] * weights[0]\n",
    "        print(f\"The running total at step {i} is {running_total}\")\n",
    "    return running_total / sum(weights)"
   ]
  },
  {
   "cell_type": "code",
   "execution_count": 31,
   "metadata": {},
   "outputs": [
    {
     "name": "stdout",
     "output_type": "stream",
     "text": [
      "The running total at step 0 is 1.0\n",
      "The running total at step 1 is 3.0\n",
      "The running total at step 2 is 6.0\n",
      "The running total at step 3 is 10.0\n",
      "The running total at step 4 is 15.0\n"
     ]
    },
    {
     "data": {
      "text/plain": [
       "15.0"
      ]
     },
     "execution_count": 31,
     "metadata": {},
     "output_type": "execute_result"
    }
   ],
   "source": [
    "numbers = [10, 20, 30, 40, 50]\n",
    "weights = [0.1, 0.2, 0.3, 0.2, 0.2]\n",
    "\n",
    "weighted_mean(numbers, weights)"
   ]
  },
  {
   "cell_type": "code",
   "execution_count": 35,
   "metadata": {},
   "outputs": [],
   "source": [
    "import logging\n",
    "\n",
    "logging.basicConfig(\n",
    "    filename=\"chapter_05_logs.log\", level=logging.DEBUG, format=\"%(asctime)s %(message)s\"\n",
    ")\n",
    "\n",
    "\n",
    "def weighted_mean(num_list, weights):\n",
    "    running_total = 0\n",
    "    for i in range(len(num_list)):\n",
    "        running_total += num_list[i] * weights[0]\n",
    "        logging.debug(f\"The running total at step {i} is {running_total}\")\n",
    "    return running_total / len(num_list)"
   ]
  }
 ],
 "metadata": {
  "kernelspec": {
   "display_name": "book",
   "language": "python",
   "name": "python3"
  },
  "language_info": {
   "codemirror_mode": {
    "name": "ipython",
    "version": 3
   },
   "file_extension": ".py",
   "mimetype": "text/x-python",
   "name": "python",
   "nbconvert_exporter": "python",
   "pygments_lexer": "ipython3",
   "version": "3.10.11"
  }
 },
 "nbformat": 4,
 "nbformat_minor": 2
}
