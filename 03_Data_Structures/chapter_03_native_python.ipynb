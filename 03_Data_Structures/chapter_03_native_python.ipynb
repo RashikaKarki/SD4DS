{
 "cells": [
  {
   "cell_type": "markdown",
   "metadata": {},
   "source": [
    "# Using Data Structures Effectively \n",
    "\n",
    "## Native Python Data Structures"
   ]
  },
  {
   "attachments": {},
   "cell_type": "markdown",
   "metadata": {},
   "source": [
    "### Lists"
   ]
  },
  {
   "cell_type": "markdown",
   "metadata": {},
   "source": [
    "You can measure how the time taken to look up an element in a list changes as a list grows."
   ]
  },
  {
   "cell_type": "code",
   "execution_count": 1,
   "metadata": {},
   "outputs": [],
   "source": [
    "small_list = list(range(10))"
   ]
  },
  {
   "cell_type": "code",
   "execution_count": 2,
   "metadata": {},
   "outputs": [
    {
     "data": {
      "text/plain": [
       "[0, 1, 2, 3, 4, 5, 6, 7, 8, 9]"
      ]
     },
     "execution_count": 2,
     "metadata": {},
     "output_type": "execute_result"
    }
   ],
   "source": [
    "small_list"
   ]
  },
  {
   "cell_type": "code",
   "execution_count": 3,
   "metadata": {},
   "outputs": [
    {
     "name": "stdout",
     "output_type": "stream",
     "text": [
      "45.3 ns ± 4.17 ns per loop (mean ± std. dev. of 7 runs, 10,000,000 loops each)\n"
     ]
    }
   ],
   "source": [
    "%%timeit\n",
    "last_element = small_list[-1]"
   ]
  },
  {
   "cell_type": "code",
   "execution_count": 4,
   "metadata": {},
   "outputs": [],
   "source": [
    "large_list = list(range(10000))"
   ]
  },
  {
   "cell_type": "code",
   "execution_count": 5,
   "metadata": {},
   "outputs": [
    {
     "name": "stdout",
     "output_type": "stream",
     "text": [
      "55.7 ns ± 6.41 ns per loop (mean ± std. dev. of 7 runs, 10,000,000 loops each)\n"
     ]
    }
   ],
   "source": [
    "%%timeit\n",
    "last_element = large_list[-1]"
   ]
  },
  {
   "cell_type": "code",
   "execution_count": 6,
   "metadata": {},
   "outputs": [
    {
     "name": "stdout",
     "output_type": "stream",
     "text": [
      "257 ns ± 19.2 ns per loop (mean ± std. dev. of 7 runs, 1,000,000 loops each)\n"
     ]
    }
   ],
   "source": [
    "%%timeit\n",
    "4200 in small_list"
   ]
  },
  {
   "cell_type": "code",
   "execution_count": 7,
   "metadata": {},
   "outputs": [
    {
     "name": "stdout",
     "output_type": "stream",
     "text": [
      "62.9 µs ± 1.5 µs per loop (mean ± std. dev. of 7 runs, 10,000 loops each)\n"
     ]
    }
   ],
   "source": [
    "%%timeit\n",
    "4200 in large_list"
   ]
  },
  {
   "cell_type": "markdown",
   "metadata": {},
   "source": [
    "If you need to search for an element in a list, you’ll need to compare the element you’re searching for with every item in the list. You can measure how this changes as the list grows using the lists from the previous code examples.\n",
    "First, you can measure how long it takes to search the list containing 10 elements:\n"
   ]
  },
  {
   "cell_type": "code",
   "execution_count": 8,
   "metadata": {},
   "outputs": [
    {
     "name": "stdout",
     "output_type": "stream",
     "text": [
      "142 ns ± 2.14 ns per loop (mean ± std. dev. of 7 runs, 10,000,000 loops each)\n"
     ]
    }
   ],
   "source": [
    "%%timeit\n",
    "4200 in small_list\n"
   ]
  },
  {
   "cell_type": "code",
   "execution_count": 9,
   "metadata": {},
   "outputs": [
    {
     "name": "stdout",
     "output_type": "stream",
     "text": [
      "43.9 µs ± 1.83 µs per loop (mean ± std. dev. of 7 runs, 10,000 loops each)\n"
     ]
    }
   ],
   "source": [
    "%%timeit\n",
    "4200 in large_list"
   ]
  },
  {
   "cell_type": "markdown",
   "metadata": {},
   "source": [
    "It takes approximately 1,000 times as long. Searching a Python list in this way is O(n). There are more efficient ways of searching a list, including binary search, which is O(log n). But if you need to frequently search if something is present it’s probably better to use a dictionary or a set. "
   ]
  },
  {
   "cell_type": "markdown",
   "metadata": {},
   "source": [
    "### Tuples"
   ]
  },
  {
   "cell_type": "code",
   "execution_count": 10,
   "metadata": {},
   "outputs": [
    {
     "data": {
      "text/plain": [
       "tuple"
      ]
     },
     "execution_count": 10,
     "metadata": {},
     "output_type": "execute_result"
    }
   ],
   "source": [
    "a_tuple = ( 'a', 'b', 'c', 'd', 'e' )\n",
    "a_tuple = 'a', 'b', 'c', 'd', 'e'\n",
    "a_tuple = 'a',\n",
    "\n",
    "type( a_tuple )"
   ]
  },
  {
   "cell_type": "markdown",
   "metadata": {},
   "source": [
    "If you want to create a tuple with a single value, add a comma (,) after the value, but don’t add parenthesis"
   ]
  },
  {
   "cell_type": "code",
   "execution_count": 11,
   "metadata": {},
   "outputs": [
    {
     "name": "stdout",
     "output_type": "stream",
     "text": [
      "()\n",
      "('l', 'u', 'p', 'i', 'n', 's')\n"
     ]
    }
   ],
   "source": [
    "a_tuple = tuple()\n",
    "print( a_tuple )\n",
    "a_tuple = tuple( 'lupins' )\n",
    "print( a_tuple )"
   ]
  },
  {
   "cell_type": "code",
   "execution_count": 13,
   "metadata": {},
   "outputs": [
    {
     "name": "stdout",
     "output_type": "stream",
     "text": [
      "('b', 'c')\n",
      "('a', 'b', 'c')\n",
      "('b', 'c', 'd', 'e')\n"
     ]
    }
   ],
   "source": [
    "a_tuple = ( 'a', 'b', 'c', 'd', 'e' )\n",
    "print( a_tuple[1:3] )\n",
    "print( a_tuple[:3] )\n",
    "print( a_tuple[1:] )\n",
    "\n",
    "# Uncomment to see error\n",
    "# a_tuple[0] = 'z'"
   ]
  },
  {
   "cell_type": "markdown",
   "metadata": {},
   "source": [
    "### Tuples as return values\n",
    "A function can only return one value\n",
    "- However, if we make that value a tuple, we can effectively return multiple values\n",
    "- For example, the divmod function takes two (2) arguments and retunrs a tuple of two (2) values, the quotient and remainder"
   ]
  },
  {
   "cell_type": "code",
   "execution_count": 14,
   "metadata": {},
   "outputs": [
    {
     "name": "stdout",
     "output_type": "stream",
     "text": [
      "2\n",
      "1\n"
     ]
    }
   ],
   "source": [
    "quotient, remainder = divmod( 7, 3 )\n",
    "print( quotient )\n",
    "print( remainder )"
   ]
  },
  {
   "cell_type": "code",
   "execution_count": 15,
   "metadata": {},
   "outputs": [
    {
     "name": "stdout",
     "output_type": "stream",
     "text": [
      "7\n",
      "55\n"
     ]
    }
   ],
   "source": [
    "def min_max( a_tuple ):\n",
    "    return min( a_tuple ), max( a_tuple )\n",
    "\n",
    "numbers = ( 13, 7, 55, 42 )\n",
    "min_num, max_num = min_max( numbers )\n",
    "print( min_num )\n",
    "print( max_num )"
   ]
  },
  {
   "cell_type": "markdown",
   "metadata": {},
   "source": [
    "### Variable-length argument tuples\n",
    "- All the functions we have built and used required a specific number of arguments\n",
    "- You can use tuples to build functions that accept a variable number of arguments\n",
    "- Prepend the argument’s variable name with an * to do this\n",
    "- It is referred to as the gather operator"
   ]
  },
  {
   "cell_type": "code",
   "execution_count": 16,
   "metadata": {},
   "outputs": [
    {
     "name": "stdout",
     "output_type": "stream",
     "text": [
      "(1, 2.0, '3')\n"
     ]
    }
   ],
   "source": [
    "def printall( *args ):\n",
    "    print( args )\n",
    "\n",
    "printall( 1 , 2.0 , '3' )"
   ]
  },
  {
   "cell_type": "markdown",
   "metadata": {},
   "source": [
    "The complement is the scatter operator. It allows you to pass a sequence of values as individual arguments to the function. "
   ]
  },
  {
   "cell_type": "code",
   "execution_count": 19,
   "metadata": {},
   "outputs": [
    {
     "data": {
      "text/plain": [
       "(2, 1)"
      ]
     },
     "execution_count": 19,
     "metadata": {},
     "output_type": "execute_result"
    }
   ],
   "source": [
    "a_tuple = ( 7, 3 )\n",
    "# divmod( a_tuple ) # Uncomment to see error\n",
    "divmod( *a_tuple )"
   ]
  },
  {
   "attachments": {},
   "cell_type": "markdown",
   "metadata": {},
   "source": [
    "### Dictionaries"
   ]
  },
  {
   "cell_type": "code",
   "execution_count": 20,
   "metadata": {},
   "outputs": [],
   "source": [
    "from faker import Faker\n",
    "\n",
    "fake = Faker()"
   ]
  },
  {
   "cell_type": "code",
   "execution_count": 21,
   "metadata": {},
   "outputs": [],
   "source": [
    "small_dict = {}\n",
    "for i in range(10):\n",
    "    small_dict[fake.name()] = fake.address()"
   ]
  },
  {
   "cell_type": "code",
   "execution_count": 22,
   "metadata": {},
   "outputs": [
    {
     "data": {
      "text/plain": [
       "{'Karen Arias': '2594 Torres Loaf Suite 296\\nParkchester, AS 28468',\n",
       " 'Christopher Salazar': '01137 Shaw Mission\\nPalmerside, AR 61898',\n",
       " 'Adam Benson': '6222 Danielle Burg\\nLake David, FM 14632',\n",
       " 'Felicia Russell': '846 Alfred Shore Suite 213\\nEast Jasonborough, NC 34082',\n",
       " 'Sandy Roman': '677 Mary Forks Suite 680\\nWest Robertborough, MA 10166',\n",
       " 'Brandon Lopez': '27083 Nathan Port\\nSouth Carlos, WA 22997',\n",
       " 'Kenneth Pineda': '90468 Moore Valleys\\nChloeton, CT 67782',\n",
       " 'Sean Walker': '359 Francisco Tunnel Suite 685\\nWest Dakota, PR 92158',\n",
       " 'Andrew Cruz': '715 Philip Locks\\nBakermouth, PA 15588',\n",
       " 'Kristin Meadows': '3396 Jackson Isle Apt. 152\\nNicolemouth, ND 42026'}"
      ]
     },
     "execution_count": 22,
     "metadata": {},
     "output_type": "execute_result"
    }
   ],
   "source": [
    "small_dict"
   ]
  },
  {
   "cell_type": "code",
   "execution_count": 24,
   "metadata": {},
   "outputs": [
    {
     "name": "stdout",
     "output_type": "stream",
     "text": [
      "43.8 ns ± 3.47 ns per loop (mean ± std. dev. of 7 runs, 10,000,000 loops each)\n"
     ]
    }
   ],
   "source": [
    "%%timeit\n",
    "small_dict[\"Karen Arias\"]"
   ]
  },
  {
   "cell_type": "code",
   "execution_count": 25,
   "metadata": {},
   "outputs": [],
   "source": [
    "large_dict = {}\n",
    "\n",
    "for i in range(10000):\n",
    "    large_dict[fake.name()] = fake.address()"
   ]
  },
  {
   "cell_type": "code",
   "execution_count": 28,
   "metadata": {},
   "outputs": [
    {
     "name": "stdout",
     "output_type": "stream",
     "text": [
      "{'William Glover': '060 Timothy Knoll Suite 987\\nClarkland, MN 81366', 'Kim Collins': 'PSC 3311, Box 7346\\nAPO AP 15910', 'Tyler Reed': '8982 Walker Lodge Apt. 092\\nWest Hannah, MP 14021', 'Matthew Mcmahon': '962 Shawn Wall\\nEast Kyle, PW 50650', 'Elizabeth Baker': '19048 Lopez Road Suite 816\\nEast Susanhaven, KS 95063', 'Zachary Chen': '7508 Anne Ford Suite 224\\nWest Joshuaborough, NM 59072', 'Matthew Gonzales': '413 Kevin Route\\nLake Jessica, IL 90093', 'Rhonda Meyer': 'PSC 9287, Box 9746\\nAPO AP 85177', 'Jeremy Melendez': '4416 Scott Burgs\\nLake Sandraburgh, NV 76988', 'Mr. Andrew Nichols': '8662 Kelsey Parkways Suite 031\\nNorth Christopher, GA 40984'}\n"
     ]
    }
   ],
   "source": [
    "import itertools\n",
    "\n",
    "# Get the first 10 items from the dictionary\n",
    "first_10_items = dict(itertools.islice(large_dict.items(), 10))\n",
    "\n",
    "print(first_10_items)"
   ]
  },
  {
   "cell_type": "code",
   "execution_count": 29,
   "metadata": {},
   "outputs": [
    {
     "name": "stdout",
     "output_type": "stream",
     "text": [
      "49.8 ns ± 4.7 ns per loop (mean ± std. dev. of 7 runs, 10,000,000 loops each)\n"
     ]
    }
   ],
   "source": [
    "%%timeit\n",
    "large_dict[\"William Glover\"]"
   ]
  },
  {
   "attachments": {},
   "cell_type": "markdown",
   "metadata": {},
   "source": [
    "## Sets"
   ]
  },
  {
   "cell_type": "code",
   "execution_count": 30,
   "metadata": {},
   "outputs": [
    {
     "name": "stdout",
     "output_type": "stream",
     "text": [
      "45.6 µs ± 1.05 µs per loop (mean ± std. dev. of 7 runs, 10,000 loops each)\n"
     ]
    }
   ],
   "source": [
    "%%timeit\n",
    "4200 in large_list"
   ]
  },
  {
   "cell_type": "code",
   "execution_count": 31,
   "metadata": {},
   "outputs": [
    {
     "name": "stdout",
     "output_type": "stream",
     "text": [
      "131 µs ± 2.64 µs per loop (mean ± std. dev. of 7 runs, 10,000 loops each)\n"
     ]
    }
   ],
   "source": [
    "%%timeit\n",
    "large_set = set(large_list)\n",
    "4200 in large_set"
   ]
  },
  {
   "cell_type": "markdown",
   "metadata": {},
   "source": [
    "Converting a list to a set then performing the lookup takes more than three times as long as the list lookup due to the time needed to convert the list to the set. However, once you have converted the list to a set, subsequent lookups are fast"
   ]
  },
  {
   "cell_type": "code",
   "execution_count": 32,
   "metadata": {},
   "outputs": [],
   "source": [
    "large_set = set(large_list)"
   ]
  },
  {
   "cell_type": "code",
   "execution_count": 33,
   "metadata": {},
   "outputs": [
    {
     "name": "stdout",
     "output_type": "stream",
     "text": [
      "47.6 ns ± 2.33 ns per loop (mean ± std. dev. of 7 runs, 10,000,000 loops each)\n"
     ]
    }
   ],
   "source": [
    "%%timeit\n",
    "5436 in large_set"
   ]
  },
  {
   "cell_type": "markdown",
   "metadata": {},
   "source": [
    "The set lookup is 1,000 times faster than the list lookup. Converting to a set is a great option when you want to repeatedly check whether items are present in a list but it isn’t worthwhile if you want to do it only a small number of times. As with everything in this lesson, it’s worth experimenting and measuring what is faster for the particular problem you’re working on."
   ]
  }
 ],
 "metadata": {
  "kernelspec": {
   "display_name": "book",
   "language": "python",
   "name": "python3"
  },
  "language_info": {
   "codemirror_mode": {
    "name": "ipython",
    "version": 3
   },
   "file_extension": ".py",
   "mimetype": "text/x-python",
   "name": "python",
   "nbconvert_exporter": "python",
   "pygments_lexer": "ipython3",
   "version": "3.10.11"
  }
 },
 "nbformat": 4,
 "nbformat_minor": 2
}
