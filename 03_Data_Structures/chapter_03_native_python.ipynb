{
 "cells": [
  {
   "cell_type": "markdown",
   "metadata": {},
   "source": [
    "# Using Data Structures Effectively \n",
    "\n",
    "## Native Python Data Structures"
   ]
  },
  {
   "attachments": {},
   "cell_type": "markdown",
   "metadata": {},
   "source": [
    "### Lists"
   ]
  },
  {
   "cell_type": "markdown",
   "metadata": {},
   "source": [
    "You can measure how the time taken to look up an element in a list changes as a list grows."
   ]
  },
  {
   "cell_type": "code",
   "execution_count": 77,
   "metadata": {},
   "outputs": [],
   "source": [
    "small_list = list(range(10))"
   ]
  },
  {
   "cell_type": "code",
   "execution_count": 78,
   "metadata": {},
   "outputs": [
    {
     "data": {
      "text/plain": [
       "[0, 1, 2, 3, 4, 5, 6, 7, 8, 9]"
      ]
     },
     "execution_count": 78,
     "metadata": {},
     "output_type": "execute_result"
    }
   ],
   "source": [
    "small_list"
   ]
  },
  {
   "cell_type": "code",
   "execution_count": 79,
   "metadata": {},
   "outputs": [
    {
     "name": "stdout",
     "output_type": "stream",
     "text": [
      "31.9 ns ± 0.346 ns per loop (mean ± std. dev. of 7 runs, 10,000,000 loops each)\n"
     ]
    }
   ],
   "source": [
    "%%timeit\n",
    "last_element = small_list[-1]"
   ]
  },
  {
   "cell_type": "code",
   "execution_count": 80,
   "metadata": {},
   "outputs": [],
   "source": [
    "large_list = list(range(10000))"
   ]
  },
  {
   "cell_type": "code",
   "execution_count": 81,
   "metadata": {},
   "outputs": [
    {
     "name": "stdout",
     "output_type": "stream",
     "text": [
      "32.2 ns ± 0.556 ns per loop (mean ± std. dev. of 7 runs, 10,000,000 loops each)\n"
     ]
    }
   ],
   "source": [
    "%%timeit\n",
    "last_element = large_list[-1]"
   ]
  },
  {
   "cell_type": "markdown",
   "metadata": {},
   "source": [
    "If you need to search for an element in a list, you’ll need to compare the element you’re searching for with every item in the list. You can measure how this changes as the list grows using the lists from the previous code examples.\n",
    "First, you can measure how long it takes to search the list containing 10 elements:\n"
   ]
  },
  {
   "cell_type": "code",
   "execution_count": 82,
   "metadata": {},
   "outputs": [
    {
     "name": "stdout",
     "output_type": "stream",
     "text": [
      "144 ns ± 7.88 ns per loop (mean ± std. dev. of 7 runs, 10,000,000 loops each)\n"
     ]
    }
   ],
   "source": [
    "%%timeit\n",
    "4200 in small_list\n"
   ]
  },
  {
   "cell_type": "code",
   "execution_count": 83,
   "metadata": {},
   "outputs": [
    {
     "name": "stdout",
     "output_type": "stream",
     "text": [
      "53.4 µs ± 1.07 µs per loop (mean ± std. dev. of 7 runs, 10,000 loops each)\n"
     ]
    }
   ],
   "source": [
    "%%timeit\n",
    "4200 in large_list"
   ]
  },
  {
   "cell_type": "markdown",
   "metadata": {},
   "source": [
    "It takes approximately 1,000 times as long. Searching a Python list in this way is O(n). There are more efficient ways of searching a list, including binary search, which is O(log n). But if you need to frequently search if something is present it’s probably better to use a dictionary or a set. "
   ]
  },
  {
   "cell_type": "markdown",
   "metadata": {},
   "source": [
    "### Tuples"
   ]
  },
  {
   "cell_type": "code",
   "execution_count": 86,
   "metadata": {},
   "outputs": [
    {
     "data": {
      "text/plain": [
       "tuple"
      ]
     },
     "execution_count": 86,
     "metadata": {},
     "output_type": "execute_result"
    }
   ],
   "source": [
    "a_tuple = ( 'a', 'b', 'c', 'd', 'e' )\n",
    "a_tuple = 'a', 'b', 'c', 'd', 'e'\n",
    "a_tuple = 'a',\n",
    "\n",
    "type( a_tuple )"
   ]
  },
  {
   "cell_type": "markdown",
   "metadata": {},
   "source": [
    "If you want to create a tuple with a single value, add a comma (,) after the value, but don’t add parenthesis"
   ]
  },
  {
   "cell_type": "code",
   "execution_count": 87,
   "metadata": {},
   "outputs": [
    {
     "name": "stdout",
     "output_type": "stream",
     "text": [
      "()\n",
      "('l', 'u', 'p', 'i', 'n', 's')\n"
     ]
    }
   ],
   "source": [
    "a_tuple = tuple()\n",
    "print( a_tuple )\n",
    "a_tuple = tuple( 'lupins' )\n",
    "print( a_tuple )"
   ]
  },
  {
   "cell_type": "code",
   "execution_count": 90,
   "metadata": {},
   "outputs": [
    {
     "name": "stdout",
     "output_type": "stream",
     "text": [
      "('b', 'c')\n",
      "('a', 'b', 'c')\n",
      "('b', 'c', 'd', 'e')\n"
     ]
    }
   ],
   "source": [
    "a_tuple = ( 'a', 'b', 'c', 'd', 'e' )\n",
    "print( a_tuple[1:3] )\n",
    "print( a_tuple[:3] )\n",
    "print( a_tuple[1:] )\n",
    "\n",
    "# Uncomment to see error\n",
    "# a_tuple[0] = 'z'"
   ]
  },
  {
   "cell_type": "markdown",
   "metadata": {},
   "source": [
    "### Tuples as return values\n",
    "A function can only return one value\n",
    "- However, if we make that value a tuple, we can effectively return multiple values\n",
    "- For example, the divmod function takes two (2) arguments and returns a tuple of two (2) values, the quotient and remainder"
   ]
  },
  {
   "cell_type": "code",
   "execution_count": 91,
   "metadata": {},
   "outputs": [
    {
     "name": "stdout",
     "output_type": "stream",
     "text": [
      "5\n",
      "2\n"
     ]
    }
   ],
   "source": [
    "quotient, remainder = divmod( 17, 3 )\n",
    "print( quotient )\n",
    "print( remainder )"
   ]
  },
  {
   "cell_type": "markdown",
   "metadata": {},
   "source": [
    "### Tuples as function args\n"
   ]
  },
  {
   "cell_type": "code",
   "execution_count": 93,
   "metadata": {},
   "outputs": [
    {
     "name": "stdout",
     "output_type": "stream",
     "text": [
      "-34\n",
      "655\n"
     ]
    }
   ],
   "source": [
    "def min_max( a_tuple ):\n",
    "    return min( a_tuple ), max( a_tuple )\n",
    "\n",
    "numbers = ( 13, 7, 55, 42, 234, -34, 123, 655 )\n",
    "min_num, max_num = min_max( numbers )\n",
    "print( min_num )\n",
    "print( max_num )"
   ]
  },
  {
   "cell_type": "markdown",
   "metadata": {},
   "source": [
    "### Variable-length argument tuples\n",
    "- Most functions require a specific number of arguments\n",
    "- You can use tuples to build functions that accept a variable number of arguments\n",
    "- Prepend the argument’s variable name with an * to do this\n",
    "- It is referred to as the gather operator"
   ]
  },
  {
   "cell_type": "code",
   "execution_count": 94,
   "metadata": {},
   "outputs": [
    {
     "name": "stdout",
     "output_type": "stream",
     "text": [
      "(1, 2.0, '3')\n"
     ]
    }
   ],
   "source": [
    "def printall( *args ):\n",
    "    print( args )\n",
    "\n",
    "printall( 1 , 2.0 , '3' )"
   ]
  },
  {
   "cell_type": "markdown",
   "metadata": {},
   "source": [
    "The complement is the scatter operator. It allows you to pass a sequence of values as individual arguments to the function. "
   ]
  },
  {
   "cell_type": "code",
   "execution_count": 58,
   "metadata": {},
   "outputs": [
    {
     "data": {
      "text/plain": [
       "(2, 1)"
      ]
     },
     "execution_count": 58,
     "metadata": {},
     "output_type": "execute_result"
    }
   ],
   "source": [
    "a_tuple = ( 7, 3 )\n",
    "# divmod( a_tuple ) # Uncomment to see error\n",
    "divmod( *a_tuple )"
   ]
  },
  {
   "attachments": {},
   "cell_type": "markdown",
   "metadata": {},
   "source": [
    "### Dictionaries"
   ]
  },
  {
   "cell_type": "code",
   "execution_count": 95,
   "metadata": {},
   "outputs": [],
   "source": [
    "from faker import Faker\n",
    "\n",
    "fake = Faker()"
   ]
  },
  {
   "cell_type": "code",
   "execution_count": 96,
   "metadata": {},
   "outputs": [],
   "source": [
    "small_dict = {}\n",
    "for i in range(10):\n",
    "    small_dict[fake.name()] = fake.address()"
   ]
  },
  {
   "cell_type": "code",
   "execution_count": 97,
   "metadata": {},
   "outputs": [
    {
     "data": {
      "text/plain": [
       "{'James Jones': '2524 Daniel Plaza Apt. 367\\nLisaport, VI 44638',\n",
       " 'Sheryl Schaefer': '58782 Watson Loop Apt. 114\\nMichaelview, RI 64083',\n",
       " 'Larry Paul': '7955 Jones Streets\\nSouth Casey, AL 08798',\n",
       " 'Samantha Austin': '038 Johnson Road Suite 673\\nAngelhaven, PW 17437',\n",
       " 'Tanner Carroll': '673 Thomas Throughway\\nMillerside, VI 51422',\n",
       " 'Susan Stewart': '706 Gross Loop Suite 731\\nReesestad, CT 69181',\n",
       " 'Bryan Fowler': '782 Donald Valley\\nRodriguezfort, MO 78192',\n",
       " 'Brian Reynolds': '6421 Lewis Wells\\nSouth Maureenton, NH 66327',\n",
       " 'Keith Hall': '56931 Montoya Fords\\nLake Anthony, ID 99578',\n",
       " 'Kimberly Moore': '636 Scott Rapid\\nTimothyberg, CO 09790'}"
      ]
     },
     "execution_count": 97,
     "metadata": {},
     "output_type": "execute_result"
    }
   ],
   "source": [
    "small_dict"
   ]
  },
  {
   "cell_type": "code",
   "execution_count": 98,
   "metadata": {},
   "outputs": [
    {
     "name": "stdout",
     "output_type": "stream",
     "text": [
      "45 ns ± 9.36 ns per loop (mean ± std. dev. of 7 runs, 10,000,000 loops each)\n"
     ]
    }
   ],
   "source": [
    "%%timeit\n",
    "small_dict[\"James Jones\"]"
   ]
  },
  {
   "cell_type": "code",
   "execution_count": 99,
   "metadata": {},
   "outputs": [],
   "source": [
    "large_dict = {}\n",
    "\n",
    "for i in range(10000):\n",
    "    large_dict[fake.name()] = fake.address()"
   ]
  },
  {
   "cell_type": "code",
   "execution_count": 100,
   "metadata": {},
   "outputs": [
    {
     "name": "stdout",
     "output_type": "stream",
     "text": [
      "{'James Everett': 'USNV Wade\\nFPO AA 89645', 'Bradley Ford': '68498 Davis Mountain Suite 055\\nHarryville, KS 20735', 'Lauren Anderson': '26013 Webster Avenue Suite 590\\nNew Cherylside, UT 37632', 'Matthew Carlson': '5995 Ray Drive\\nNew Christina, SD 73446', 'Cody Calhoun': '252 Tiffany Passage\\nPort Samanthaborough, MS 28729', 'Chad Wang': '22095 David Prairie Suite 613\\nLake Malloryside, NV 09951', 'Kari Brown': '791 Morris Mountains Apt. 817\\nKellyton, MO 49595', 'Cynthia Brown': '9557 Morton Path Suite 863\\nLake Ashleyfort, MS 09723', 'Christina Rodriguez': '4735 Torres Shoal Suite 036\\nJenniferstad, FL 56705', 'James Martinez': '9320 Edwards Fields\\nAdrianchester, TN 86974'}\n"
     ]
    }
   ],
   "source": [
    "import itertools\n",
    "\n",
    "# Get the first 10 items from the dictionary\n",
    "first_10_items = dict(itertools.islice(large_dict.items(), 10))\n",
    "\n",
    "print(first_10_items)"
   ]
  },
  {
   "cell_type": "code",
   "execution_count": 101,
   "metadata": {},
   "outputs": [
    {
     "name": "stdout",
     "output_type": "stream",
     "text": [
      "44.7 ns ± 1.23 ns per loop (mean ± std. dev. of 7 runs, 10,000,000 loops each)\n"
     ]
    }
   ],
   "source": [
    "%%timeit\n",
    "large_dict[\"James Everett\"]"
   ]
  },
  {
   "attachments": {},
   "cell_type": "markdown",
   "metadata": {},
   "source": [
    "## Sets"
   ]
  },
  {
   "cell_type": "code",
   "execution_count": 102,
   "metadata": {},
   "outputs": [
    {
     "name": "stdout",
     "output_type": "stream",
     "text": [
      "44.8 µs ± 1.08 µs per loop (mean ± std. dev. of 7 runs, 10,000 loops each)\n"
     ]
    }
   ],
   "source": [
    "%%timeit\n",
    "4200 in large_list"
   ]
  },
  {
   "cell_type": "code",
   "execution_count": 103,
   "metadata": {},
   "outputs": [
    {
     "name": "stdout",
     "output_type": "stream",
     "text": [
      "145 µs ± 11.9 µs per loop (mean ± std. dev. of 7 runs, 10,000 loops each)\n"
     ]
    }
   ],
   "source": [
    "%%timeit\n",
    "large_set = set(large_list)\n",
    "4200 in large_set"
   ]
  },
  {
   "cell_type": "markdown",
   "metadata": {},
   "source": [
    "Converting a list to a set then performing the lookup takes more than three times as long as the list lookup due to the time needed to convert the list to the set. However, once you have converted the list to a set, subsequent lookups are fast"
   ]
  },
  {
   "cell_type": "code",
   "execution_count": 104,
   "metadata": {},
   "outputs": [],
   "source": [
    "large_set = set(large_list)"
   ]
  },
  {
   "cell_type": "code",
   "execution_count": 105,
   "metadata": {},
   "outputs": [
    {
     "name": "stdout",
     "output_type": "stream",
     "text": [
      "47.9 ns ± 4.29 ns per loop (mean ± std. dev. of 7 runs, 10,000,000 loops each)\n"
     ]
    }
   ],
   "source": [
    "%%timeit\n",
    "5436 in large_set"
   ]
  },
  {
   "cell_type": "markdown",
   "metadata": {},
   "source": [
    "The set lookup is 1,000 times faster than the list lookup. Converting to a set is a great option when you want to repeatedly check whether items are present in a list but it isn’t worthwhile if you want to do it only a small number of times. As with everything in this lesson, it’s worth experimenting and measuring what is faster for the particular problem you’re working on."
   ]
  }
 ],
 "metadata": {
  "kernelspec": {
   "display_name": "book",
   "language": "python",
   "name": "python3"
  },
  "language_info": {
   "codemirror_mode": {
    "name": "ipython",
    "version": 3
   },
   "file_extension": ".py",
   "mimetype": "text/x-python",
   "name": "python",
   "nbconvert_exporter": "python",
   "pygments_lexer": "ipython3",
   "version": "3.10.11"
  }
 },
 "nbformat": 4,
 "nbformat_minor": 2
}
