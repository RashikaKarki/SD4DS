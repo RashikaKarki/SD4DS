{
 "cells": [
  {
   "cell_type": "markdown",
   "metadata": {},
   "source": [
    "# APIs\n",
    "\n",
    "### Getting Data from the SDG API"
   ]
  },
  {
   "cell_type": "code",
   "execution_count": null,
   "metadata": {},
   "outputs": [],
   "source": [
    "import requests"
   ]
  },
  {
   "cell_type": "code",
   "execution_count": null,
   "metadata": {},
   "outputs": [],
   "source": [
    "response = requests.get(\"https://unstats.un.org/SDGAPI/v1/sdg/Goal/List\")"
   ]
  },
  {
   "cell_type": "code",
   "execution_count": null,
   "metadata": {},
   "outputs": [],
   "source": [
    "response.status_code"
   ]
  },
  {
   "cell_type": "code",
   "execution_count": null,
   "metadata": {},
   "outputs": [],
   "source": [
    "response.headers[\"content-type\"]"
   ]
  },
  {
   "cell_type": "code",
   "execution_count": null,
   "metadata": {},
   "outputs": [],
   "source": [
    "response.json()"
   ]
  },
  {
   "cell_type": "code",
   "execution_count": null,
   "metadata": {},
   "outputs": [],
   "source": [
    "response = requests.get(\n",
    "    \"https://unstats.un.org/sdgapi/v1/sdg/Goal/5/Target/List?includechildren=true\"\n",
    ")"
   ]
  },
  {
   "cell_type": "code",
   "execution_count": null,
   "metadata": {},
   "outputs": [],
   "source": [
    "response.status_code"
   ]
  },
  {
   "cell_type": "code",
   "execution_count": null,
   "metadata": {},
   "outputs": [],
   "source": [
    "for i in response.json()[0][\"targets\"]:\n",
    "    print(i)\n",
    "    print(\"\")"
   ]
  },
  {
   "cell_type": "markdown",
   "metadata": {},
   "source": [
    "### Setting up FastAPI\n",
    "\n",
    "First, you’ll need to install FastAPI using this command:\n",
    "\n",
    "`$ pip install fastapi`\n",
    "\n",
    "You’ll also need to install an additional module to serve the endpoint. There are a few options for this, and I’ll choose `Uvicorn`, as suggested in the `FastAPI` documentation. `Uvicorn` is a web server that makes your endpoints accessible either on your own machine or deployed elsewhere.\n",
    "\n",
    "You can install Uvicorn with:\n",
    "\n",
    "$ pip install 'uvicorn[standard]'\n",
    "\n",
    "The next step is to create a `FastAPI` object. This is an empty app without any endpoints, and you need to initialize the app before you add any endpoints to it. You can create the `FastAPI` object:\n",
    "\n",
    "`from fastapi import FastAPI`\n",
    "\n",
    "`app = FastAPI()`\n"
   ]
  },
  {
   "cell_type": "markdown",
   "metadata": {},
   "source": [
    "### Creating Your Own API using FastAPI\n",
    "\n",
    "- <b>FastAPI's Path Parameter Feature</b>: allows dynamic endpoint customization, e.g., greeting different users.\n",
    "- <b>Swagger UI Documentation</b>: automatic generation of API documentation accessible locally.\n",
    "- <b>Shutting Down the API</b>: simple Ctrl+C shortcut to terminate the API service.\n",
    "- <b>Adding Complex Functionality</b>: incorporating 'fit_trendline' function for data analysis.\n",
    "- <b>Separation of Logic and API Code</b>: facilitates framework switching, independent testing, and modular code design.\n",
    "- <b>GET and POST Endpoints</b>: implementation of endpoints for data trend analysis.\n",
    "\n",
    "\n",
    "Now I'll show you how to do something a little more complex with your API: adding the `fit_trendline` function you’ve seen in earlier lessons to your API. I’ll show you how to make two endpoints. \n",
    "- The first is a GET endpoint that takes a country name as a path parameter and returns the slope and R2 value for the trend of the proportion of women in parliament in that country. It uses the data from the UN Sustainable Development Goal 5 from earlier in the chapter. \n",
    "- The second is a POST endpoint that accepts any data and timestamps in a JSON file and returns the slope and R2 value for the trend of that data.\n"
   ]
  },
  {
   "attachments": {},
   "cell_type": "markdown",
   "metadata": {},
   "source": [
    "### Calling your own API"
   ]
  },
  {
   "cell_type": "code",
   "execution_count": null,
   "metadata": {},
   "outputs": [],
   "source": [
    "response = requests.get(\"http://127.0.0.1:8000/country_trendline/India\")"
   ]
  },
  {
   "cell_type": "code",
   "execution_count": null,
   "metadata": {},
   "outputs": [],
   "source": [
    "response.status_code"
   ]
  },
  {
   "cell_type": "code",
   "execution_count": null,
   "metadata": {},
   "outputs": [],
   "source": [
    "response.json()"
   ]
  },
  {
   "cell_type": "code",
   "execution_count": null,
   "metadata": {},
   "outputs": [],
   "source": [
    "url = \"http://127.0.0.1:8000/fit_trendline/\"\n",
    "\n",
    "json_data = {\"timestamps\": [2000, 2001, 2002], \"data\": [0.5, 0.6, 0.7]}"
   ]
  },
  {
   "cell_type": "code",
   "execution_count": null,
   "metadata": {},
   "outputs": [],
   "source": [
    "response = requests.post(url=url, json=json_data)"
   ]
  },
  {
   "cell_type": "code",
   "execution_count": null,
   "metadata": {},
   "outputs": [],
   "source": [
    "response.json()"
   ]
  }
 ],
 "metadata": {
  "kernelspec": {
   "display_name": "book",
   "language": "python",
   "name": "python3"
  },
  "language_info": {
   "codemirror_mode": {
    "name": "ipython",
    "version": 3
   },
   "file_extension": ".py",
   "mimetype": "text/x-python",
   "name": "python",
   "nbconvert_exporter": "python",
   "pygments_lexer": "ipython3",
   "version": "3.10.11"
  }
 },
 "nbformat": 4,
 "nbformat_minor": 2
}
